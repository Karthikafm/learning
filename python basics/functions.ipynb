{
 "cells": [
  {
   "cell_type": "code",
   "execution_count": null,
   "id": "38538c40",
   "metadata": {},
   "outputs": [
    {
     "ename": "SyntaxError",
     "evalue": "expected '(' (2169826614.py, line 1)",
     "output_type": "error",
     "traceback": [
      "  \u001b[36mCell\u001b[39m\u001b[36m \u001b[39m\u001b[32mIn[1]\u001b[39m\u001b[32m, line 1\u001b[39m\n\u001b[31m    \u001b[39m\u001b[31mdef function_name{parameters}:\u001b[39m\n                     ^\n\u001b[31mSyntaxError\u001b[39m\u001b[31m:\u001b[39m expected '('\n"
     ]
    }
   ],
   "source": [
    "## syntax\n",
    "def function_name{parameters}:\n",
    "    \"\"\" Docstring\"\"\"\n",
    "       # Function body\n",
    "       return expression\n"
   ]
  },
  {
   "cell_type": "code",
   "execution_count": 2,
   "id": "1bfab190",
   "metadata": {},
   "outputs": [
    {
     "name": "stdout",
     "output_type": "stream",
     "text": [
      "the number is even\n"
     ]
    }
   ],
   "source": [
    "num=2\n",
    "if num%2==0:\n",
    "    print(\"the number is even\")\n",
    "else:\n",
    "    print(\"the number is odd\")"
   ]
  },
  {
   "cell_type": "code",
   "execution_count": 6,
   "id": "926d8223",
   "metadata": {},
   "outputs": [],
   "source": [
    "def even_or_odd(num):\n",
    "    \"\"\"This function finds even or odd\"\"\"\n",
    "    if num%2==0:\n",
    "     print(\"the number is even\")\n",
    "    else:\n",
    "     print(\"the number is odd\")"
   ]
  },
  {
   "cell_type": "code",
   "execution_count": 7,
   "id": "58df4f0b",
   "metadata": {},
   "outputs": [
    {
     "name": "stdout",
     "output_type": "stream",
     "text": [
      "the number is even\n",
      "the number is odd\n"
     ]
    }
   ],
   "source": [
    "even_or_odd(20)\n",
    "even_or_odd(19)"
   ]
  },
  {
   "cell_type": "code",
   "execution_count": 11,
   "id": "b8fc3eb6",
   "metadata": {},
   "outputs": [
    {
     "name": "stdout",
     "output_type": "stream",
     "text": [
      "6\n"
     ]
    }
   ],
   "source": [
    "def add(a,b):\n",
    "    return a+b\n",
    "\n",
    "result=add(2,4)\n",
    "print(result)"
   ]
  },
  {
   "cell_type": "code",
   "execution_count": 13,
   "id": "a1c79657",
   "metadata": {},
   "outputs": [
    {
     "name": "stdout",
     "output_type": "stream",
     "text": [
      "hai karthik welcome\n"
     ]
    }
   ],
   "source": [
    "def greet(name):\n",
    "    print(f\"hai {name} welcome\")\n",
    "\n",
    "greet(\"karthik\")"
   ]
  },
  {
   "cell_type": "code",
   "execution_count": 15,
   "id": "5c071f0e",
   "metadata": {},
   "outputs": [
    {
     "name": "stdout",
     "output_type": "stream",
     "text": [
      "haiguestwelcome\n"
     ]
    }
   ],
   "source": [
    "def greet(name=\"guest\"):\n",
    "    print(f\"hai{name}welcome\")\n",
    "\n",
    "greet()"
   ]
  },
  {
   "cell_type": "code",
   "execution_count": 17,
   "id": "900cb364",
   "metadata": {},
   "outputs": [
    {
     "name": "stdout",
     "output_type": "stream",
     "text": [
      "haikarthikwelcome\n"
     ]
    }
   ],
   "source": [
    "def greet(name=\"guest\"):\n",
    "    print(f\"hai{name}welcome\")\n",
    "\n",
    "greet(\"karthik\")"
   ]
  },
  {
   "cell_type": "code",
   "execution_count": 20,
   "id": "9c7667f7",
   "metadata": {},
   "outputs": [],
   "source": [
    "def print_numbers(*args):\n",
    "    for numbers in args:\n",
    "        print(numbers)"
   ]
  },
  {
   "cell_type": "code",
   "execution_count": 21,
   "id": "6f25ce14",
   "metadata": {},
   "outputs": [
    {
     "name": "stdout",
     "output_type": "stream",
     "text": [
      "1\n",
      "2\n",
      "3\n",
      "4\n",
      "5\n"
     ]
    }
   ],
   "source": [
    "print_numbers(1,2,3,4,5)"
   ]
  },
  {
   "cell_type": "code",
   "execution_count": 23,
   "id": "d47feaab",
   "metadata": {},
   "outputs": [],
   "source": [
    "def print_details(**kwrgs):\n",
    "    for key,value in kwrgs.items():\n",
    "        print(f\"{key}:{value}\")"
   ]
  },
  {
   "cell_type": "code",
   "execution_count": 24,
   "id": "ad42075b",
   "metadata": {},
   "outputs": [
    {
     "name": "stdout",
     "output_type": "stream",
     "text": [
      "name:karthik\n",
      "age:29\n",
      "country:india\n"
     ]
    }
   ],
   "source": [
    "print_details(name=\"karthik\",age=\"29\",country=\"india\")"
   ]
  },
  {
   "cell_type": "code",
   "execution_count": 25,
   "id": "974af586",
   "metadata": {},
   "outputs": [],
   "source": [
    "def print_details(*args,**kwrgs):\n",
    "    for val in args:\n",
    "        print(f\"{val}\")\n",
    "    \n",
    "    for key,value in kwrgs.items():\n",
    "        print(f\"{key}:{value}\")"
   ]
  },
  {
   "cell_type": "code",
   "execution_count": 27,
   "id": "484d0e96",
   "metadata": {},
   "outputs": [
    {
     "name": "stdout",
     "output_type": "stream",
     "text": [
      "1\n",
      "2\n",
      "3\n",
      "4\n",
      "5\n",
      "name:karthik\n",
      "age:29\n",
      "country:india\n"
     ]
    }
   ],
   "source": [
    "print_details(1,2,3,4,5,name=\"karthik\",age=\"29\",country=\"india\")"
   ]
  },
  {
   "cell_type": "code",
   "execution_count": 29,
   "id": "b02beaa2",
   "metadata": {},
   "outputs": [
    {
     "data": {
      "text/plain": [
       "(20, 4)"
      ]
     },
     "execution_count": 29,
     "metadata": {},
     "output_type": "execute_result"
    }
   ],
   "source": [
    "def multiply(a,b):\n",
    "    return a*b,a\n",
    "multiply(4,5)"
   ]
  },
  {
   "cell_type": "code",
   "execution_count": null,
   "id": "958ba33e",
   "metadata": {},
   "outputs": [],
   "source": []
  }
 ],
 "metadata": {
  "kernelspec": {
   "display_name": "Python 3",
   "language": "python",
   "name": "python3"
  },
  "language_info": {
   "codemirror_mode": {
    "name": "ipython",
    "version": 3
   },
   "file_extension": ".py",
   "mimetype": "text/x-python",
   "name": "python",
   "nbconvert_exporter": "python",
   "pygments_lexer": "ipython3",
   "version": "3.13.0"
  }
 },
 "nbformat": 4,
 "nbformat_minor": 5
}
