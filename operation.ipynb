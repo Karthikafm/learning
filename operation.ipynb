{
 "cells": [
  {
   "cell_type": "code",
   "execution_count": 1,
   "id": "76fa15df",
   "metadata": {},
   "outputs": [
    {
     "name": "stdout",
     "output_type": "stream",
     "text": [
      "hello how are you?\n",
      "i am good\n",
      "krish is my name\n",
      "welcome to the course\n"
     ]
    }
   ],
   "source": [
    "with open('example.txt','r')as file:\n",
    "    content=file.read()\n",
    "    print(content)"
   ]
  },
  {
   "cell_type": "code",
   "execution_count": 4,
   "id": "cb647f9e",
   "metadata": {},
   "outputs": [
    {
     "name": "stdout",
     "output_type": "stream",
     "text": [
      "hello how are you?\n",
      "i am good\n",
      "krish is my name\n",
      "welcome to the course\n"
     ]
    }
   ],
   "source": [
    "with open('example.txt','r')as file:\n",
    "    for line in file:\n",
    "        print(line.strip())"
   ]
  },
  {
   "cell_type": "code",
   "execution_count": 5,
   "id": "e65313ee",
   "metadata": {},
   "outputs": [],
   "source": [
    "with open('example.txt','w')as file:\n",
    "    file.write('Hello world!\\n')\n",
    "    file.write('this is a newline.')"
   ]
  },
  {
   "cell_type": "code",
   "execution_count": null,
   "id": "ebd2cca0",
   "metadata": {},
   "outputs": [],
   "source": [
    "with open('example.txt','a') as file:\n",
    "    file.write(\"Append operation taking place!\")"
   ]
  },
  {
   "cell_type": "code",
   "execution_count": 7,
   "id": "84183e2f",
   "metadata": {},
   "outputs": [],
   "source": [
    "lines=['First line\\n','second line\\n','third line\\n']\n",
    "with open('example.txt','a')as file:\n",
    "    file.writelines(lines)"
   ]
  },
  {
   "cell_type": "code",
   "execution_count": 8,
   "id": "0b679e35",
   "metadata": {},
   "outputs": [],
   "source": [
    "data=b'\\x00\\x01\\x02\\x03\\x04'\n",
    "with open ('example.bin','wb')as file:\n",
    "    file.write(data)"
   ]
  },
  {
   "cell_type": "code",
   "execution_count": 10,
   "id": "24e5f53e",
   "metadata": {},
   "outputs": [
    {
     "name": "stdout",
     "output_type": "stream",
     "text": [
      "b'\\x00\\x01\\x02\\x03\\x04'\n"
     ]
    }
   ],
   "source": [
    "with open('example.bin','rb')as file:\n",
    "    content=file.read()\n",
    "    print(content)"
   ]
  },
  {
   "cell_type": "code",
   "execution_count": 12,
   "id": "ab20ac7a",
   "metadata": {},
   "outputs": [],
   "source": [
    "with open('example.txt','r')as source_file:\n",
    "    content = source_file.read()\n",
    "\n",
    "with open('destination.txt','w')as destination_file:\n",
    "    destination_file.write(content)"
   ]
  },
  {
   "cell_type": "code",
   "execution_count": 1,
   "id": "2f562a06",
   "metadata": {},
   "outputs": [
    {
     "name": "stdout",
     "output_type": "stream",
     "text": [
      "\n"
     ]
    }
   ],
   "source": [
    "with open('example.txt','w+')as file:\n",
    "    file.write(\"Hello world\\n\")\n",
    "    file.write(\"this is new line\\n\")\n",
    "    content=file.read()\n",
    "    print(content)\n",
    "    \n"
   ]
  },
  {
   "cell_type": "code",
   "execution_count": 5,
   "id": "305767e8",
   "metadata": {},
   "outputs": [
    {
     "name": "stdout",
     "output_type": "stream",
     "text": [
      "directory'packag'create\n"
     ]
    }
   ],
   "source": [
    "import os\n",
    "new_directory=\"packag\"\n",
    "os.mkdir(new_directory)\n",
    "print(f\"directory'{new_directory}'create\")"
   ]
  },
  {
   "cell_type": "code",
   "execution_count": 7,
   "id": "eca027db",
   "metadata": {},
   "outputs": [
    {
     "name": "stdout",
     "output_type": "stream",
     "text": [
      "['basic.ipynb', 'datatypes.ipynb', 'destination.txt', 'dictionaries.ipynb', 'example.bin', 'example.csv', 'example.txt', 'filter.ipynb', 'functions.ipynb', 'import.ipynb', 'lambda.ipynb', 'list.ipynb', 'maps.ipynb', 'operation.ipynb', 'packag', 'package', 'source.txt', 'standrad.ipynb', 'test-dir']\n"
     ]
    }
   ],
   "source": [
    "items=os.listdir('.')\n",
    "print(items)"
   ]
  },
  {
   "cell_type": "code",
   "execution_count": 8,
   "id": "7733e699",
   "metadata": {},
   "outputs": [
    {
     "name": "stdout",
     "output_type": "stream",
     "text": [
      "folder\\file.txt\n"
     ]
    }
   ],
   "source": [
    "dir_name=\"folder\"\n",
    "file_name=\"file.txt\"\n",
    "full_path=os.path.join(dir_name,file_name)\n",
    "print(full_path)"
   ]
  },
  {
   "cell_type": "code",
   "execution_count": 9,
   "id": "97d13d49",
   "metadata": {},
   "outputs": [
    {
     "name": "stdout",
     "output_type": "stream",
     "text": [
      "e:\\python\\python basics\\folder\\file.txt\n"
     ]
    }
   ],
   "source": [
    "dir_name=\"folder\"\n",
    "file_name=\"file.txt\"\n",
    "full_path=os.path.join(os.getcwd(),dir_name,file_name)\n",
    "print(full_path)"
   ]
  },
  {
   "cell_type": "code",
   "execution_count": 11,
   "id": "d1fbb832",
   "metadata": {},
   "outputs": [
    {
     "name": "stdout",
     "output_type": "stream",
     "text": [
      "The path 'examplel.txt' does not exists\n"
     ]
    }
   ],
   "source": [
    "path='examplel.txt'\n",
    "if os.path.exists(path):\n",
    "    print(f\"The path '{path} exists\")\n",
    "else:\n",
    "    print(f\"The path '{path}' does not exists\")"
   ]
  },
  {
   "cell_type": "code",
   "execution_count": 13,
   "id": "71119b4a",
   "metadata": {},
   "outputs": [
    {
     "name": "stdout",
     "output_type": "stream",
     "text": [
      "The path 'example.txt is a file.\n"
     ]
    }
   ],
   "source": [
    "path='example.txt'\n",
    "if os.path.isfile(path):\n",
    "    print(f\"The path '{path} is a file.\")\n",
    "elif os.path.isdir(path):\n",
    "    print(f\"The path '{path}' is a directory.\")\n",
    "else:\n",
    "    print(f\"The path '{path}'is neither a file nor a directory.\")\n"
   ]
  },
  {
   "cell_type": "code",
   "execution_count": 14,
   "id": "8da84c6e",
   "metadata": {},
   "outputs": [
    {
     "name": "stdout",
     "output_type": "stream",
     "text": [
      "e:\\python\\python basics\\example.txt\n"
     ]
    }
   ],
   "source": [
    "relative_path='example.txt'\n",
    "absolute_path=os.path.abspath(relative_path)\n",
    "print(absolute_path)"
   ]
  },
  {
   "cell_type": "code",
   "execution_count": null,
   "id": "42d04381",
   "metadata": {},
   "outputs": [],
   "source": []
  }
 ],
 "metadata": {
  "kernelspec": {
   "display_name": "Python 3",
   "language": "python",
   "name": "python3"
  },
  "language_info": {
   "codemirror_mode": {
    "name": "ipython",
    "version": 3
   },
   "file_extension": ".py",
   "mimetype": "text/x-python",
   "name": "python",
   "nbconvert_exporter": "python",
   "pygments_lexer": "ipython3",
   "version": "3.13.0"
  }
 },
 "nbformat": 4,
 "nbformat_minor": 5
}
