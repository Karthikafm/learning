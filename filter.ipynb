{
 "cells": [
  {
   "cell_type": "code",
   "execution_count": 3,
   "id": "a621e75a",
   "metadata": {},
   "outputs": [],
   "source": [
    "def odd(num):\n",
    "    if num%3==0:\n",
    "       return True"
   ]
  },
  {
   "cell_type": "code",
   "execution_count": 4,
   "id": "62202d62",
   "metadata": {},
   "outputs": [],
   "source": [
    "odd(23)"
   ]
  },
  {
   "cell_type": "code",
   "execution_count": 5,
   "id": "97106b73",
   "metadata": {},
   "outputs": [
    {
     "data": {
      "text/plain": [
       "[3, 6, 9]"
      ]
     },
     "execution_count": 5,
     "metadata": {},
     "output_type": "execute_result"
    }
   ],
   "source": [
    "lst=[1,2,3,4,5,6,7,8,9,10]\n",
    "\n",
    "list(filter(odd,lst))"
   ]
  },
  {
   "cell_type": "code",
   "execution_count": 7,
   "id": "8949bd1a",
   "metadata": {},
   "outputs": [
    {
     "name": "stdout",
     "output_type": "stream",
     "text": [
      "[6, 9]\n"
     ]
    }
   ],
   "source": [
    "numbers=[1,2,3,4,5,6,7,8,9,10]\n",
    "odd_greater_than_five=list(filter(lambda x:x>5 and x%3==0,numbers))\n",
    "print(odd_greater_than_five)"
   ]
  },
  {
   "cell_type": "code",
   "execution_count": 9,
   "id": "739f125e",
   "metadata": {},
   "outputs": [
    {
     "data": {
      "text/plain": [
       "[{'name': 'karthik', 'age': 29}, {'name': 'prabhu', 'age': 30}]"
      ]
     },
     "execution_count": 9,
     "metadata": {},
     "output_type": "execute_result"
    }
   ],
   "source": [
    "people=[\n",
    "    {'name':'karthik' , 'age':29},\n",
    "    {'name':'prabhu' , 'age':30}\n",
    "]\n",
    "\n",
    "def age_greater_than_25(person):\n",
    "    return person['age']>25\n",
    "list(filter(age_greater_than_25,people))"
   ]
  },
  {
   "cell_type": "code",
   "execution_count": null,
   "id": "a6afd584",
   "metadata": {},
   "outputs": [],
   "source": []
  }
 ],
 "metadata": {
  "kernelspec": {
   "display_name": "Python 3",
   "language": "python",
   "name": "python3"
  },
  "language_info": {
   "codemirror_mode": {
    "name": "ipython",
    "version": 3
   },
   "file_extension": ".py",
   "mimetype": "text/x-python",
   "name": "python",
   "nbconvert_exporter": "python",
   "pygments_lexer": "ipython3",
   "version": "3.13.0"
  }
 },
 "nbformat": 4,
 "nbformat_minor": 5
}
